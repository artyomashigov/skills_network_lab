{
  "metadata": {
    "kernelspec": {
      "name": "python",
      "display_name": "Pyolite",
      "language": "python"
    },
    "language_info": {
      "codemirror_mode": {
        "name": "python",
        "version": 3
      },
      "file_extension": ".py",
      "mimetype": "text/x-python",
      "name": "python",
      "nbconvert_exporter": "python",
      "pygments_lexer": "ipython3",
      "version": "3.8"
    }
  },
  "nbformat_minor": 4,
  "nbformat": 4,
  "cells": [
    {
      "cell_type": "markdown",
      "source": "<center>\n    <img src=\"https://s3-api.us-geo.objectstorage.softlayer.net/cf-courses-data/CognitiveClass/Logos/organization_logo/organization_logo.png\" width=\"300\" alt=\"cognitiveclass.ai logo\"  />\n</center>\n",
      "metadata": {}
    },
    {
      "cell_type": "markdown",
      "source": "# My Jupyter Notebook on IBM Watson Studio\n",
      "metadata": {}
    },
    {
      "cell_type": "markdown",
      "source": "## __Artyom Ashigov__\nRisk Business Analyst - current occupation\n\nData Scientist - desired occupation",
      "metadata": {}
    },
    {
      "cell_type": "markdown",
      "source": "#### _I am interested in date science, because I love to work with data_",
      "metadata": {}
    },
    {
      "cell_type": "markdown",
      "source": "### Guess the number from 1 to 100",
      "metadata": {}
    },
    {
      "cell_type": "code",
      "source": "from math import *\nfrom random import *\n\nprint('Guess the number from 1 to 100: ')\n\nn = randint(1,100)\n\na=0\nwhile a!=n:\n    a= int(input())\n    if a>n:\n        print('The hidden number is less than the entered one, try again')\n    elif a<n:\n        print('The hidden number is more than the entered one, try again')\nelse:\n    print('Congratulations! You guessed the number!')\n",
      "metadata": {},
      "execution_count": null,
      "outputs": []
    },
    {
      "cell_type": "markdown",
      "source": " - This is just a bullet point\n - Thank you for reading and evaluating my code\n - Wish you good luck",
      "metadata": {}
    }
  ]
}